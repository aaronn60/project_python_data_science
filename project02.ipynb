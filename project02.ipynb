{
 "cells": [
  {
   "cell_type": "code",
   "execution_count": 4,
   "id": "5a27b9e6-f19c-47a0-a4fa-1570da1a62dc",
   "metadata": {},
   "outputs": [],
   "source": [
    "import numpy as np\n",
    "import pandas as pd"
   ]
  },
  {
   "cell_type": "code",
   "execution_count": 5,
   "id": "01e6ff77-b746-4482-8ac9-8c85811a9b6d",
   "metadata": {},
   "outputs": [],
   "source": [
    "df = pd.read_csv(\"titanic/train.csv\")"
   ]
  },
  {
   "cell_type": "code",
   "execution_count": 19,
   "id": "87c8b7c0-9587-4f8f-8d17-ea45be27c4ed",
   "metadata": {},
   "outputs": [
    {
     "data": {
      "text/plain": [
       "PassengerId      0\n",
       "Survived         0\n",
       "Pclass           0\n",
       "Name             0\n",
       "Sex              0\n",
       "Age            177\n",
       "SibSp            0\n",
       "Parch            0\n",
       "Ticket           0\n",
       "Fare             0\n",
       "Cabin          687\n",
       "Embarked         2\n",
       "dtype: int64"
      ]
     },
     "execution_count": 19,
     "metadata": {},
     "output_type": "execute_result"
    }
   ],
   "source": [
    "#cek missing value,outliers, standar tipe data\n",
    "#cek missing data\n",
    "df.isnull().sum()"
   ]
  },
  {
   "cell_type": "code",
   "execution_count": 28,
   "id": "0c286792-4a0c-4f2e-a81c-1586533d7667",
   "metadata": {},
   "outputs": [
    {
     "data": {
      "text/plain": [
       "0      22.0\n",
       "1      38.0\n",
       "2      26.0\n",
       "3      35.0\n",
       "4      35.0\n",
       "       ... \n",
       "886    27.0\n",
       "887    19.0\n",
       "888    28.0\n",
       "889    26.0\n",
       "890    32.0\n",
       "Name: Age, Length: 891, dtype: float64"
      ]
     },
     "execution_count": 28,
     "metadata": {},
     "output_type": "execute_result"
    }
   ],
   "source": [
    "#kolom Age, Cabin & Embarked memiliki missing value\n",
    "#mengatasi missing value: mengisi missing value dengan median\n",
    "df[\"Age\"].fillna(df[\"Age\"].median())\n"
   ]
  },
  {
   "cell_type": "code",
   "execution_count": 47,
   "id": "6721d1fe-f830-4c9d-bd5e-0d5ec00986c4",
   "metadata": {},
   "outputs": [
    {
     "name": "stderr",
     "output_type": "stream",
     "text": [
      "C:\\Users\\LENOVO\\AppData\\Local\\Temp\\ipykernel_15788\\3832053495.py:2: FutureWarning: A value is trying to be set on a copy of a DataFrame or Series through chained assignment using an inplace method.\n",
      "The behavior will change in pandas 3.0. This inplace method will never work because the intermediate object on which we are setting values always behaves as a copy.\n",
      "\n",
      "For example, when doing 'df[col].method(value, inplace=True)', try using 'df.method({col: value}, inplace=True)' or df[col] = df[col].method(value) instead, to perform the operation inplace on the original object.\n",
      "\n",
      "\n",
      "  df[\"Embarked\"].fillna(df[\"Embarked\"].mode()[0], inplace =True)\n"
     ]
    }
   ],
   "source": [
    "#mengisi missing value dengan nilai yang paling sering muncul\n",
    "df[\"Embarked\"].fillna(df[\"Embarked\"].mode()[0], inplace =True)"
   ]
  },
  {
   "cell_type": "code",
   "execution_count": 48,
   "id": "7bd5e1a9-2a2a-460e-9271-ab16cad37e19",
   "metadata": {},
   "outputs": [
    {
     "data": {
      "text/plain": [
       "PassengerId      0\n",
       "Survived         0\n",
       "Pclass           0\n",
       "Name             0\n",
       "Sex              0\n",
       "Age              0\n",
       "SibSp            0\n",
       "Parch            0\n",
       "Ticket           0\n",
       "Fare             0\n",
       "Cabin          687\n",
       "Embarked         0\n",
       "dtype: int64"
      ]
     },
     "execution_count": 48,
     "metadata": {},
     "output_type": "execute_result"
    }
   ],
   "source": [
    "df.isnull().sum()"
   ]
  },
  {
   "cell_type": "code",
   "execution_count": 49,
   "id": "4b5991c0-c24e-4c2e-bed6-452ca2c9c7c9",
   "metadata": {},
   "outputs": [],
   "source": [
    "#menghapus kolom cabin karna dominan null\n",
    "df.drop(columns=[\"Cabin\"], inplace =True)"
   ]
  },
  {
   "cell_type": "code",
   "execution_count": 50,
   "id": "97c64d83-d9d3-4a34-9f55-749630ab1dc6",
   "metadata": {},
   "outputs": [
    {
     "data": {
      "text/plain": [
       "PassengerId    0\n",
       "Survived       0\n",
       "Pclass         0\n",
       "Name           0\n",
       "Sex            0\n",
       "Age            0\n",
       "SibSp          0\n",
       "Parch          0\n",
       "Ticket         0\n",
       "Fare           0\n",
       "Embarked       0\n",
       "dtype: int64"
      ]
     },
     "execution_count": 50,
     "metadata": {},
     "output_type": "execute_result"
    }
   ],
   "source": [
    "df.isnull().sum()"
   ]
  },
  {
   "cell_type": "code",
   "execution_count": 59,
   "id": "892ae4ff-33ba-4f51-a05a-9d30cc99136c",
   "metadata": {},
   "outputs": [
    {
     "data": {
      "text/plain": [
       "<Axes: xlabel='Age'>"
      ]
     },
     "execution_count": 59,
     "metadata": {},
     "output_type": "execute_result"
    },
    {
     "data": {
      "image/png": "[encoded data removed]",
      "text/plain": [
       "<Figure size 640x480 with 1 Axes>"
      ]
     },
     "metadata": {},
     "output_type": "display_data"
    }
   ],
   "source": [
    "#Tahap 2: cek Outlier\n",
    "import seaborn as sns\n",
    "sns.boxplot(x=df[\"Age\"])"
   ]
  },
  {
   "cell_type": "code",
   "execution_count": 13,
   "id": "6defcf48-235d-4bff-913e-019e47ef165b",
   "metadata": {},
   "outputs": [
    {
     "name": "stdout",
     "output_type": "stream",
     "text": [
      "20.125 38.0 17.875\n"
     ]
    }
   ],
   "source": [
    "#Mengecek nilai q1, iqr, q3\n",
    "q1= df[\"Age\"].quantile(0.25)\n",
    "q3=df[\"Age\"].quantile(0.75)\n",
    "iqr=q3-q1\n",
    "print(q1, q3, iqr)"
   ]
  },
  {
   "cell_type": "code",
   "execution_count": 14,
   "id": "d86f1fcb-50fe-4a32-bf50-00ce71c3654c",
   "metadata": {},
   "outputs": [
    {
     "name": "stdout",
     "output_type": "stream",
     "text": [
      "64.8125 -6.6875\n"
     ]
    }
   ],
   "source": [
    "#menghitung batas atas & batas bawah\n",
    "upper_limit = q3 + 1.5*iqr\n",
    "lower_limit = q1 - 1.5*iqr\n",
    "print (upper_limit, lower_limit)"
   ]
  },
  {
   "cell_type": "code",
   "execution_count": 24,
   "id": "7a7f8b59-5e62-4642-b192-7cc1682ca11b",
   "metadata": {},
   "outputs": [
    {
     "ename": "SyntaxError",
     "evalue": "invalid syntax. Perhaps you forgot a comma? (3717617174.py, line 2)",
     "output_type": "error",
     "traceback": [
      "  \u001b[36mCell\u001b[39m\u001b[36m \u001b[39m\u001b[32mIn[24]\u001b[39m\u001b[32m, line 2\u001b[39m\n\u001b[31m    \u001b[39m\u001b[31mdf.query(\"\"Age\" <= 0\")\u001b[39m\n             ^\n\u001b[31mSyntaxError\u001b[39m\u001b[31m:\u001b[39m invalid syntax. Perhaps you forgot a comma?\n"
     ]
    }
   ],
   "source": [
    "#tidak dilakukan capping (penggantian nilai outlier ke nilai batas atas atau batas bawah) karena data umur merepresentasikan nilai yang normal\n"
   ]
  },
  {
   "cell_type": "code",
   "execution_count": 26,
   "id": "90c7926b-8228-406f-95b6-19b8cdd3ad83",
   "metadata": {},
   "outputs": [
    {
     "data": {
      "text/plain": [
       "PassengerId      int64\n",
       "Survived         int64\n",
       "Pclass           int64\n",
       "Name            object\n",
       "Sex             object\n",
       "Age            float64\n",
       "SibSp            int64\n",
       "Parch            int64\n",
       "Ticket          object\n",
       "Fare           float64\n",
       "Cabin           object\n",
       "Embarked        object\n",
       "dtype: object"
      ]
     },
     "execution_count": 26,
     "metadata": {},
     "output_type": "execute_result"
    }
   ],
   "source": [
    "#Melakukan standarisasi Data Types\n",
    "df.dtypes"
   ]
  },
  {
   "cell_type": "code",
   "execution_count": 39,
   "id": "914a8cc7-41f7-4733-9cef-85f01befe8d9",
   "metadata": {},
   "outputs": [],
   "source": [
    "df[\"Pclass\"] =df[\"Pclass\"].astype(\"category\")\n",
    "df[\"Sex\"] =df[\"Sex\"].astype(\"category\")\n",
    "df[\"Embarked\"] =df[\"Embarked\"].astype(\"category\")\n",
    "df[\"Survived\"] =df[\"Survived\"].astype(\"category\")"
   ]
  },
  {
   "cell_type": "code",
   "execution_count": null,
   "id": "265ac8b2-7b88-4777-b5c9-84edd0e9f887",
   "metadata": {},
   "outputs": [],
   "source": [
    "#encode categorical pada columns Sex, Embarked. hal ini untuk membuat columns baru untuk setiap kategori unik agar data lebih mudah di proses\n",
    "df = pd.get_dummies(df, columns=[\"Sex\",\"Embarked\"],drop_first=True)"
   ]
  },
  {
   "cell_type": "code",
   "execution_count": 42,
   "id": "9ad6c27a-6c79-4d86-81e7-54681aef99e4",
   "metadata": {
    "scrolled": true
   },
   "outputs": [
    {
     "name": "stdout",
     "output_type": "stream",
     "text": [
      "     PassengerId Survived Pclass  \\\n",
      "0              1        0      3   \n",
      "1              2        1      1   \n",
      "2              3        1      3   \n",
      "3              4        1      1   \n",
      "4              5        0      3   \n",
      "..           ...      ...    ...   \n",
      "886          887        0      2   \n",
      "887          888        1      1   \n",
      "888          889        0      3   \n",
      "889          890        1      1   \n",
      "890          891        0      3   \n",
      "\n",
      "                                                  Name   Age  SibSp  Parch  \\\n",
      "0                              Braund, Mr. Owen Harris  22.0      1      0   \n",
      "1    Cumings, Mrs. John Bradley (Florence Briggs Th...  38.0      1      0   \n",
      "2                               Heikkinen, Miss. Laina  26.0      0      0   \n",
      "3         Futrelle, Mrs. Jacques Heath (Lily May Peel)  35.0      1      0   \n",
      "4                             Allen, Mr. William Henry  35.0      0      0   \n",
      "..                                                 ...   ...    ...    ...   \n",
      "886                              Montvila, Rev. Juozas  27.0      0      0   \n",
      "887                       Graham, Miss. Margaret Edith  19.0      0      0   \n",
      "888           Johnston, Miss. Catherine Helen \"Carrie\"   NaN      1      2   \n",
      "889                              Behr, Mr. Karl Howell  26.0      0      0   \n",
      "890                                Dooley, Mr. Patrick  32.0      0      0   \n",
      "\n",
      "               Ticket     Fare Cabin  Sex_male  Embarked_Q  Embarked_S  \n",
      "0           A/5 21171   7.2500   NaN      True       False        True  \n",
      "1            PC 17599  71.2833   C85     False       False       False  \n",
      "2    STON/O2. 3101282   7.9250   NaN     False       False        True  \n",
      "3              113803  53.1000  C123     False       False        True  \n",
      "4              373450   8.0500   NaN      True       False        True  \n",
      "..                ...      ...   ...       ...         ...         ...  \n",
      "886            211536  13.0000   NaN      True       False        True  \n",
      "887            112053  30.0000   B42     False       False        True  \n",
      "888        W./C. 6607  23.4500   NaN     False       False        True  \n",
      "889            111369  30.0000  C148      True       False       False  \n",
      "890            370376   7.7500   NaN      True        True       False  \n",
      "\n",
      "[891 rows x 13 columns]\n"
     ]
    }
   ],
   "source": [
    "print(df)"
   ]
  },
  {
   "cell_type": "code",
   "execution_count": 47,
   "id": "72b50a96-8d9b-490f-8ca4-22b126ffd562",
   "metadata": {},
   "outputs": [],
   "source": [
    "#menyimpan perubahan ke csv dengan tidak menyimpan index\n",
    "df.to_csv(\"titanic/train_cleaned.csv\",index=False)"
   ]
  },
  {
   "cell_type": "code",
   "execution_count": 50,
   "id": "8d71ca25-0974-4011-8ff8-5a18da40bd01",
   "metadata": {},
   "outputs": [],
   "source": [
    "#Step Project02 untuk menangani missing value, outlier, standarisasi tipe data, mengencode kolom kategorikal, dan menyimpan data ke csv baru.\n",
    "#langkah2 yang dilakukan:\n",
    "#1. import pandas & membuka kembali file train.csv\n",
    "#2. mengecek missing value tiap kolom\n",
    "#3. menangani setiap mising value dengan pendekatan yang berbeda tergantung kondisinya\n",
    "#4. mengecek outlier dengan seaborn, lalu cek nilai q1, q3, iqr untuk melihat apakah perlu dilakukan capping atau tidak\n",
    "#5. men-standarisasi data type pada tiap kolom\n",
    "#6. meng-encode kolom Sex, Embarked untuk menghasilkan kolom baru sesuai kategori\n",
    "#7. menyimpan ke csv baru = train_cleaned.csv\n"
   ]
  },
  {
   "cell_type": "code",
   "execution_count": null,
   "id": "37b73856-6438-4425-b401-4cb0b03d7e3f",
   "metadata": {},
   "outputs": [],
   "source": []
  }
 ],
 "metadata": {
  "kernelspec": {
   "display_name": "Python 3 (ipykernel)",
   "language": "python",
   "name": "python3"
  },
  "language_info": {
   "codemirror_mode": {
    "name": "ipython",
    "version": 3
   },
   "file_extension": ".py",
   "mimetype": "text/x-python",
   "name": "python",
   "nbconvert_exporter": "python",
   "pygments_lexer": "ipython3",
   "version": "3.11.9"
  }
 },
 "nbformat": 4,
 "nbformat_minor": 5
}
